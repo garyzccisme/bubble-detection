{
 "cells": [
  {
   "cell_type": "code",
   "execution_count": 7,
   "id": "d1240c25",
   "metadata": {},
   "outputs": [],
   "source": [
    "import numpy as np\n",
    "import pandas as pd\n",
    "\n",
    "from data.dataset import StockDataset\n",
    "from data.scaler import HybridScaler\n",
    "from data.split import StratifiedTimeSeriesSplit\n",
    "from data.utils import sliding_window\n",
    "from model.arima import grid_search\n",
    "from sklearn.model_selection import TimeSeriesSplit\n",
    "from sklearn.metrics import confusion_matrix\n",
    "from sklearn.pipeline import Pipeline\n",
    "\n",
    "import warnings\n",
    "warnings.filterwarnings('ignore')"
   ]
  },
  {
   "cell_type": "code",
   "execution_count": 8,
   "id": "01e4dd28",
   "metadata": {},
   "outputs": [],
   "source": [
    "dataset = StockDataset('^GSPC')\n",
    "df = dataset.get_hist(start_date='1950-01-01', end_date='2021-10-23', time_interval='daily')"
   ]
  },
  {
   "cell_type": "code",
   "execution_count": 9,
   "id": "cd638745",
   "metadata": {},
   "outputs": [],
   "source": [
    "x = pd.concat(\n",
    "    [df, \n",
    "     dataset.lookback_agg(lookback_len=30), \n",
    "     dataset.lookback_agg(lookback_len=60), \n",
    "     dataset.lookback_agg(lookback_len=120)],\n",
    "    axis=1)\n",
    "\n",
    "# x = df\n",
    "\n",
    "y = dataset.get_change_forecast_label(forecast_len=30, is_up=False, method='past_all')"
   ]
  },
  {
   "cell_type": "code",
   "execution_count": 10,
   "id": "d8033c01",
   "metadata": {},
   "outputs": [],
   "source": [
    "TRAIN_START = '1951-01-01'\n",
    "TEST_START = '2018-01-01'\n",
    "\n",
    "window_len = 120\n",
    "scaler = HybridScaler()\n",
    "scaler.fit(x[TRAIN_START:TEST_START])\n",
    "\n",
    "indices, windows = sliding_window(scaler.transform(x), window_len=window_len, step_size=1)\n",
    "train_start = (np.array(indices) <= TRAIN_START).sum()\n",
    "test_start = (np.array(indices) <= TEST_START).sum()\n",
    "\n",
    "train_x = windows[train_start:test_start]\n",
    "train_y = y[indices][train_start:test_start]\n",
    "test_x = windows[test_start:]\n",
    "test_y = y[indices][test_start:]\n",
    "\n",
    "split = TimeSeriesSplit(n_splits=10, test_size=120)\n",
    "# split = StratifiedTimeSeriesSplit(n_splits=10, test_size=120, min_positive_ratio=0.25)"
   ]
  },
  {
   "cell_type": "markdown",
   "id": "af492fa8",
   "metadata": {},
   "source": [
    "# Use `keras` to build up some basic seq models"
   ]
  },
  {
   "cell_type": "code",
   "execution_count": 11,
   "id": "9e41ee88",
   "metadata": {},
   "outputs": [],
   "source": [
    "from keras import Sequential\n",
    "from keras.layers import LSTM, Dense, Conv1D, MaxPooling1D"
   ]
  },
  {
   "cell_type": "code",
   "execution_count": 12,
   "id": "6c29438c",
   "metadata": {},
   "outputs": [],
   "source": [
    "# define LSTM model\n",
    "def get_model():\n",
    "    model = Sequential()\n",
    "    model.add(LSTM(64, activation='relu', input_shape=windows.shape[1:], return_sequences=True))\n",
    "    model.add(LSTM(16, activation='relu')) \n",
    "    model.add(Dense(8, activation='relu'))\n",
    "    model.add(Dense(1, activation='sigmoid'))\n",
    "    model.compile(optimizer='adam', loss='binary_crossentropy', metrics=['accuracy'])\n",
    "    return model"
   ]
  },
  {
   "cell_type": "code",
   "execution_count": 13,
   "id": "bc2b6c4a",
   "metadata": {},
   "outputs": [],
   "source": [
    "# # define CNN-LSTM model\n",
    "# def get_model():\n",
    "#     model = Sequential()\n",
    "#     model.add(Conv1D(filters=64, kernel_size=5, activation='relu', input_shape=windows.shape[1:]))\n",
    "#     model.add(LSTM(16, activation='relu')) \n",
    "#     # model.add(MaxPooling1D(pool_size=window_len))\n",
    "#     model.add(Dense(8, activation='relu'))\n",
    "#     model.add(Dense(1, activation='sigmoid'))\n",
    "#     model.compile(optimizer='adam', loss='binary_crossentropy', metrics=['accuracy'])\n",
    "#     return model"
   ]
  },
  {
   "cell_type": "markdown",
   "id": "b786f0c7",
   "metadata": {},
   "source": [
    "# Use split to cross-validation"
   ]
  },
  {
   "cell_type": "code",
   "execution_count": 14,
   "id": "1896894b",
   "metadata": {},
   "outputs": [
    {
     "name": "stdout",
     "output_type": "stream",
     "text": [
      "=== Start Fold 1 ===\n"
     ]
    },
    {
     "name": "stderr",
     "output_type": "stream",
     "text": [
      "2021-12-11 12:51:03.926944: I tensorflow/core/platform/cpu_feature_guard.cc:151] This TensorFlow binary is optimized with oneAPI Deep Neural Network Library (oneDNN) to use the following CPU instructions in performance-critical operations:  AVX2 FMA\n",
      "To enable them in other operations, rebuild TensorFlow with the appropriate compiler flags.\n"
     ]
    },
    {
     "name": "stdout",
     "output_type": "stream",
     "text": [
      "=== Fold 1 Validation Score is 0.5\n",
      "=== Start Fold 2 ===\n",
      "=== Fold 2 Validation Score is 1.0\n",
      "=== Start Fold 3 ===\n",
      "=== Fold 3 Validation Score is 0.9666666666666667\n",
      "=== Start Fold 4 ===\n",
      "=== Fold 4 Validation Score is 0.7833333333333333\n",
      "=== Start Fold 5 ===\n",
      "=== Fold 5 Validation Score is 0.7583333333333333\n",
      "=== Start Fold 6 ===\n",
      "=== Fold 6 Validation Score is 0.36666666666666664\n",
      "=== Start Fold 7 ===\n",
      "=== Fold 7 Validation Score is 0.7416666666666667\n",
      "=== Start Fold 8 ===\n",
      "=== Fold 8 Validation Score is 1.0\n",
      "=== Start Fold 9 ===\n",
      "=== Fold 9 Validation Score is 0.9833333333333333\n",
      "=== Start Fold 10 ===\n",
      "=== Fold 10 Validation Score is 0.43333333333333335\n"
     ]
    }
   ],
   "source": [
    "scores = []\n",
    "\n",
    "for i, (train_idx, valid_idx) in enumerate(split.split(train_y.index)):\n",
    "    print(f\"=== Start Fold {i + 1} ===\")\n",
    "    model = get_model()\n",
    "    model.fit(train_x[train_idx], train_y[train_idx], epochs=10, verbose=0)\n",
    "    \n",
    "    pred_y = model.predict(train_x[valid_idx])\n",
    "    pred_y_int = (pred_y >= 0.5).astype(int).reshape(-1)\n",
    "    accuracy = (pred_y_int == train_y[valid_idx]).mean()\n",
    "    print(F\"=== Fold {i + 1} Validation Score is {accuracy}\")\n",
    "    scores.append(accuracy)"
   ]
  },
  {
   "cell_type": "code",
   "execution_count": 15,
   "id": "19e1cc21",
   "metadata": {},
   "outputs": [
    {
     "data": {
      "text/plain": [
       "0.7533333333333334"
      ]
     },
     "execution_count": 15,
     "metadata": {},
     "output_type": "execute_result"
    }
   ],
   "source": [
    "np.mean(scores)"
   ]
  },
  {
   "cell_type": "markdown",
   "id": "68c57b88",
   "metadata": {},
   "source": [
    "# Train with full train set "
   ]
  },
  {
   "cell_type": "code",
   "execution_count": 16,
   "id": "305beb32",
   "metadata": {
    "scrolled": false
   },
   "outputs": [
    {
     "name": "stdout",
     "output_type": "stream",
     "text": [
      "Epoch 1/10\n",
      "527/527 [==============================] - 35s 63ms/step - loss: 19587.4082 - accuracy: 0.7282\n",
      "Epoch 2/10\n",
      "527/527 [==============================] - 31s 59ms/step - loss: 0.5752 - accuracy: 0.7405\n",
      "Epoch 3/10\n",
      "527/527 [==============================] - 35s 65ms/step - loss: 0.5728 - accuracy: 0.7405\n",
      "Epoch 4/10\n",
      "527/527 [==============================] - 43s 81ms/step - loss: 0.5717 - accuracy: 0.7405\n",
      "Epoch 5/10\n",
      "527/527 [==============================] - 34s 64ms/step - loss: 0.5712 - accuracy: 0.7405\n",
      "Epoch 6/10\n",
      "527/527 [==============================] - 35s 67ms/step - loss: 0.5708 - accuracy: 0.7405\n",
      "Epoch 7/10\n",
      "527/527 [==============================] - 33s 62ms/step - loss: 0.5699 - accuracy: 0.7405\n",
      "Epoch 8/10\n",
      "527/527 [==============================] - 33s 62ms/step - loss: 0.5676 - accuracy: 0.7405\n",
      "Epoch 9/10\n",
      "527/527 [==============================] - 32s 61ms/step - loss: 0.5634 - accuracy: 0.7412\n",
      "Epoch 10/10\n",
      "527/527 [==============================] - 33s 63ms/step - loss: 0.5608 - accuracy: 0.7427\n"
     ]
    },
    {
     "data": {
      "text/plain": [
       "<keras.callbacks.History at 0x15885c3d0>"
      ]
     },
     "execution_count": 16,
     "metadata": {},
     "output_type": "execute_result"
    }
   ],
   "source": [
    "model = get_model()\n",
    "model.fit(train_x, train_y, epochs=10)"
   ]
  },
  {
   "cell_type": "code",
   "execution_count": 17,
   "id": "9aa3af96",
   "metadata": {},
   "outputs": [],
   "source": [
    "pred_y = model.predict(test_x)"
   ]
  },
  {
   "cell_type": "code",
   "execution_count": 18,
   "id": "8151377f",
   "metadata": {},
   "outputs": [],
   "source": [
    "pred_y_int = (pred_y >= 0.5).astype(int)"
   ]
  },
  {
   "cell_type": "code",
   "execution_count": 19,
   "id": "e7fcc115",
   "metadata": {
    "scrolled": true
   },
   "outputs": [
    {
     "data": {
      "text/plain": [
       "(21, 323)"
      ]
     },
     "execution_count": 19,
     "metadata": {},
     "output_type": "execute_result"
    }
   ],
   "source": [
    "pred_y_int.sum(), test_y.sum()"
   ]
  },
  {
   "cell_type": "code",
   "execution_count": 20,
   "id": "2bd6cef8",
   "metadata": {},
   "outputs": [
    {
     "data": {
      "text/plain": [
       "array([[618,  19],\n",
       "       [321,   2]])"
      ]
     },
     "execution_count": 20,
     "metadata": {},
     "output_type": "execute_result"
    }
   ],
   "source": [
    "confusion_matrix(test_y, pred_y_int.reshape(-1))"
   ]
  },
  {
   "cell_type": "code",
   "execution_count": 21,
   "id": "39ee121d",
   "metadata": {},
   "outputs": [
    {
     "data": {
      "text/plain": [
       "0.6458333333333334"
      ]
     },
     "execution_count": 21,
     "metadata": {},
     "output_type": "execute_result"
    }
   ],
   "source": [
    "(test_y == pred_y_int.reshape(-1)).mean()"
   ]
  },
  {
   "cell_type": "code",
   "execution_count": null,
   "id": "ac7c63c8",
   "metadata": {},
   "outputs": [],
   "source": []
  }
 ],
 "metadata": {
  "kernelspec": {
   "display_name": "Python 3 (ipykernel)",
   "language": "python",
   "name": "python3"
  },
  "language_info": {
   "codemirror_mode": {
    "name": "ipython",
    "version": 3
   },
   "file_extension": ".py",
   "mimetype": "text/x-python",
   "name": "python",
   "nbconvert_exporter": "python",
   "pygments_lexer": "ipython3",
   "version": "3.9.6"
  }
 },
 "nbformat": 4,
 "nbformat_minor": 5
}
