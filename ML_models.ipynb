{
 "cells": [
  {
   "cell_type": "code",
   "execution_count": 1,
   "id": "0b778bf6",
   "metadata": {},
   "outputs": [],
   "source": [
    "import numpy as np\n",
    "import pandas as pd\n",
    "\n",
    "from data.dataset import StockDataset\n",
    "from data.scaler import HybridScaler\n",
    "from data.split import StratifiedTimeSeriesSplit\n",
    "from model.arima import grid_search\n",
    "from sklearn.model_selection import TimeSeriesSplit\n",
    "from sklearn.pipeline import Pipeline\n",
    "from sklearn.linear_model import LogisticRegression\n",
    "from sklearn.metrics import confusion_matrix\n",
    "from sklearn.model_selection import cross_validate\n",
    "\n",
    "import warnings\n",
    "warnings.filterwarnings('ignore')"
   ]
  },
  {
   "cell_type": "markdown",
   "id": "2763a30d",
   "metadata": {},
   "source": [
    "# Data"
   ]
  },
  {
   "cell_type": "code",
   "execution_count": 2,
   "id": "6b876a8e",
   "metadata": {},
   "outputs": [],
   "source": [
    "dataset = StockDataset('^GSPC')\n",
    "df = dataset.get_hist(start_date='1950-01-01', end_date='2021-10-23', time_interval='daily')"
   ]
  },
  {
   "cell_type": "code",
   "execution_count": 3,
   "id": "a5bc3f7a",
   "metadata": {},
   "outputs": [],
   "source": [
    "x = pd.concat(\n",
    "    [df, \n",
    "     dataset.lookback_agg(lookback_len=30), \n",
    "     dataset.lookback_agg(lookback_len=60), \n",
    "     dataset.lookback_agg(lookback_len=120)],\n",
    "    axis=1)\n",
    "\n",
    "y = dataset.get_change_forecast_label(forecast_len=30, is_up=False, method='past_all')"
   ]
  },
  {
   "cell_type": "code",
   "execution_count": 4,
   "id": "b2d1c8d7",
   "metadata": {},
   "outputs": [],
   "source": [
    "TRAIN_START = '1951-01-01'\n",
    "TEST_START = '2018-01-01'\n",
    "\n",
    "train_x = x[TRAIN_START:TEST_START]\n",
    "train_y = y[TRAIN_START:TEST_START]\n",
    "test_x = x[TEST_START:]\n",
    "test_y = y[TEST_START:]\n",
    "\n",
    "split = TimeSeriesSplit(n_splits=10, test_size=120)\n",
    "# split = StratifiedTimeSeriesSplit(n_splits=10, test_size=120, min_positive_ratio=0.25)"
   ]
  },
  {
   "cell_type": "markdown",
   "id": "0a7aca62",
   "metadata": {},
   "source": [
    "# LogisticRegression"
   ]
  },
  {
   "cell_type": "code",
   "execution_count": 6,
   "id": "0c3d31aa",
   "metadata": {},
   "outputs": [],
   "source": [
    "pipeline = Pipeline(steps=[\n",
    "    ('scaler', HybridScaler()), \n",
    "    ('model', LogisticRegression(penalty='elasticnet', l1_ratio=0.5, solver='saga', class_weight='balanced'))\n",
    "])"
   ]
  },
  {
   "cell_type": "code",
   "execution_count": 7,
   "id": "b8d36acc",
   "metadata": {},
   "outputs": [],
   "source": [
    "results = cross_validate(pipeline, train_x, train_y, cv=split, scoring='accuracy')"
   ]
  },
  {
   "cell_type": "code",
   "execution_count": 8,
   "id": "859dc264",
   "metadata": {},
   "outputs": [
    {
     "data": {
      "text/plain": [
       "0.8033333333333333"
      ]
     },
     "execution_count": 8,
     "metadata": {},
     "output_type": "execute_result"
    }
   ],
   "source": [
    "results['test_score'].mean()"
   ]
  },
  {
   "cell_type": "code",
   "execution_count": 9,
   "id": "e1c66147",
   "metadata": {},
   "outputs": [
    {
     "data": {
      "text/plain": [
       "array([[237, 400],\n",
       "       [135, 188]])"
      ]
     },
     "execution_count": 9,
     "metadata": {},
     "output_type": "execute_result"
    }
   ],
   "source": [
    "pipeline.fit(train_x, train_y)\n",
    "pred_y = pipeline.predict(test_x)\n",
    "\n",
    "confusion_matrix(test_y, pred_y)"
   ]
  },
  {
   "cell_type": "markdown",
   "id": "d569d039",
   "metadata": {},
   "source": [
    "# RandomForecast"
   ]
  },
  {
   "cell_type": "code",
   "execution_count": 10,
   "id": "87f5b38f",
   "metadata": {},
   "outputs": [],
   "source": [
    "from sklearn.ensemble import RandomForestClassifier"
   ]
  },
  {
   "cell_type": "code",
   "execution_count": 11,
   "id": "a945c69b",
   "metadata": {},
   "outputs": [],
   "source": [
    "pipeline = Pipeline(steps=[\n",
    "    ('scaler', HybridScaler()), \n",
    "    ('model', RandomForestClassifier(n_estimators=100, random_state=1))\n",
    "])"
   ]
  },
  {
   "cell_type": "code",
   "execution_count": 12,
   "id": "42c168ff",
   "metadata": {},
   "outputs": [],
   "source": [
    "results = cross_validate(pipeline, train_x, train_y, cv=split, scoring='accuracy')"
   ]
  },
  {
   "cell_type": "code",
   "execution_count": 13,
   "id": "8703af8c",
   "metadata": {},
   "outputs": [
    {
     "data": {
      "text/plain": [
       "0.8608333333333332"
      ]
     },
     "execution_count": 13,
     "metadata": {},
     "output_type": "execute_result"
    }
   ],
   "source": [
    "results['test_score'].mean()"
   ]
  },
  {
   "cell_type": "code",
   "execution_count": 14,
   "id": "49542704",
   "metadata": {},
   "outputs": [
    {
     "data": {
      "text/plain": [
       "array([[400, 237],\n",
       "       [114, 209]])"
      ]
     },
     "execution_count": 14,
     "metadata": {},
     "output_type": "execute_result"
    }
   ],
   "source": [
    "pipeline.fit(train_x, train_y)\n",
    "pred_y = pipeline.predict(test_x)\n",
    "\n",
    "confusion_matrix(test_y, pred_y)"
   ]
  },
  {
   "cell_type": "code",
   "execution_count": null,
   "id": "795cd69d",
   "metadata": {},
   "outputs": [],
   "source": []
  }
 ],
 "metadata": {
  "kernelspec": {
   "display_name": "Python 3 (ipykernel)",
   "language": "python",
   "name": "python3"
  },
  "language_info": {
   "codemirror_mode": {
    "name": "ipython",
    "version": 3
   },
   "file_extension": ".py",
   "mimetype": "text/x-python",
   "name": "python",
   "nbconvert_exporter": "python",
   "pygments_lexer": "ipython3",
   "version": "3.9.6"
  }
 },
 "nbformat": 4,
 "nbformat_minor": 5
}
